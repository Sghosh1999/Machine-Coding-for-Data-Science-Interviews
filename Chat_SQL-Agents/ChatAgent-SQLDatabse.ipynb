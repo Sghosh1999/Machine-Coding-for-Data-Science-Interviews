{
 "cells": [
  {
   "cell_type": "code",
   "execution_count": 1,
   "id": "c8dbcaad-ccf6-4fd0-85b1-017b5b9c6517",
   "metadata": {},
   "outputs": [],
   "source": [
    "import pandas as pd\n",
    "from sqlalchemy import create_engine"
   ]
  },
  {
   "cell_type": "code",
   "execution_count": 4,
   "id": "822d691a-90de-4165-9020-1cf84c998b0c",
   "metadata": {},
   "outputs": [],
   "source": [
    "import getpass\n",
    "import os\n",
    "from langchain_groq import ChatGroq\n",
    "\n",
    "os.environ[\"GROQ_API_KEY\"] = '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'\n",
    "llm = ChatGroq(model=\"llama3-8b-8192\")"
   ]
  },
  {
   "cell_type": "code",
   "execution_count": 5,
   "id": "6ece172a-5832-4190-99e8-b6e29c10e55a",
   "metadata": {},
   "outputs": [
    {
     "data": {
      "text/plain": [
       "AIMessage(content=\"Hi! It's nice to meet you. Is there something I can help you with or would you like to chat?\", response_metadata={'token_usage': {'completion_tokens': 25, 'prompt_tokens': 11, 'total_tokens': 36, 'completion_time': 0.020833333, 'prompt_time': 0.001737674, 'queue_time': 0.021624417, 'total_time': 0.022571007}, 'model_name': 'llama3-8b-8192', 'system_fingerprint': 'fp_6a6771ae9c', 'finish_reason': 'stop', 'logprobs': None}, id='run-7c95fced-4ca0-4b15-a74f-4976ed3f3066-0')"
      ]
     },
     "execution_count": 5,
     "metadata": {},
     "output_type": "execute_result"
    }
   ],
   "source": [
    "llm.invoke('Hi')"
   ]
  },
  {
   "cell_type": "code",
   "execution_count": 3,
   "id": "a1c3b0a1-c4f0-455f-9b7d-004f5364b561",
   "metadata": {},
   "outputs": [
    {
     "data": {
      "text/plain": [
       "3755"
      ]
     },
     "execution_count": 3,
     "metadata": {},
     "output_type": "execute_result"
    }
   ],
   "source": [
    "DATABSE_URL = \"sqlite:///chatbot.db\"\n",
    "engine = create_engine(DATABSE_URL)\n",
    "df = pd.read_csv('ds_salaries.csv')\n",
    "df.to_sql('chat_data',con=engine,index=False,if_exists='replace')"
   ]
  },
  {
   "cell_type": "markdown",
   "id": "66ad67b6-33b3-4241-84ae-72a532edb7ac",
   "metadata": {},
   "source": [
    "## Simple Database Question Answering"
   ]
  },
  {
   "cell_type": "code",
   "execution_count": 11,
   "id": "bcf44936-8860-4869-9b7b-fa8676c20762",
   "metadata": {},
   "outputs": [],
   "source": [
    "from langchain.agents import Tool\n",
    "from langchain.memory import ConversationBufferMemory\n",
    "from langchain.prompts import PromptTemplate\n",
    "from langchain_experimental.sql import SQLDatabaseChain\n",
    "from langchain_community.utilities import SQLDatabase"
   ]
  },
  {
   "cell_type": "code",
   "execution_count": 12,
   "id": "cf042da6-bdfc-4239-a488-38e55a45c241",
   "metadata": {},
   "outputs": [
    {
     "name": "stdout",
     "output_type": "stream",
     "text": [
      "sqlite\n",
      "['chat_data']\n"
     ]
    },
    {
     "data": {
      "text/plain": [
       "\"[(2023, 'SE', 'FT', 'Principal Data Scientist', 80000, 'EUR', 85847, 'ES', 100, 'ES', 'L'), (2023, 'MI', 'CT', 'ML Engineer', 30000, 'USD', 30000, 'US', 100, 'US', 'S'), (2023, 'MI', 'CT', 'ML Engineer', 25500, 'USD', 25500, 'US', 100, 'US', 'S'), (2023, 'SE', 'FT', 'Data Scientist', 175000, 'USD', 175000, 'CA', 100, 'CA', 'M'), (2023, 'SE', 'FT', 'Data Scientist', 120000, 'USD', 120000, 'CA', 100, 'CA', 'M'), (2023, 'SE', 'FT', 'Applied Scientist', 222200, 'USD', 222200, 'US', 0, 'US', 'L'), (2023, 'SE', 'FT', 'Applied Scientist', 136000, 'USD', 136000, 'US', 0, 'US', 'L'), (2023, 'SE', 'FT', 'Data Scientist', 219000, 'USD', 219000, 'CA', 0, 'CA', 'M'), (2023, 'SE', 'FT', 'Data Scientist', 141000, 'USD', 141000, 'CA', 0, 'CA', 'M'), (2023, 'SE', 'FT', 'Data Scientist', 147100, 'USD', 147100, 'US', 0, 'US', 'M')]\""
      ]
     },
     "execution_count": 12,
     "metadata": {},
     "output_type": "execute_result"
    }
   ],
   "source": [
    "db = SQLDatabase.from_uri(\"sqlite:///chatbot.db\")\n",
    "print(db.dialect)\n",
    "print(db.get_usable_table_names())\n",
    "db.run(\"SELECT * FROM chat_data LIMIT 10;\")"
   ]
  },
  {
   "cell_type": "markdown",
   "id": "d6113932-6843-49ec-a2eb-f2113f69c2f6",
   "metadata": {},
   "source": [
    "## Generate SQL Query Function"
   ]
  },
  {
   "cell_type": "code",
   "execution_count": 19,
   "id": "1d577c5f-1493-42ca-b1f6-20cf7cd7e7d2",
   "metadata": {},
   "outputs": [
    {
     "name": "stderr",
     "output_type": "stream",
     "text": [
      "C:\\Users\\sayantghosh\\AppData\\Local\\anaconda3\\envs\\genai\\Lib\\site-packages\\langchain\\hub.py:86: DeprecationWarning: The `langchainhub sdk` is deprecated.\n",
      "Please use the `langsmith sdk` instead:\n",
      "  pip install langsmith\n",
      "Use the `pull_prompt` method.\n",
      "  res_dict = client.pull_repo(owner_repo_commit)\n"
     ]
    }
   ],
   "source": [
    "from langchain import hub\n",
    "\n",
    "query_prompt_template = hub.pull(\"langchain-ai/sql-query-system-prompt\")"
   ]
  },
  {
   "cell_type": "code",
   "execution_count": 48,
   "id": "8285bcc4-f4aa-4d7f-aa54-660f43c0deed",
   "metadata": {},
   "outputs": [],
   "source": [
    "from typing import Optional\n",
    "from langchain_groq import ChatGroq\n",
    "from langchain_core.pydantic_v1 import BaseModel, Field\n",
    "\n",
    "class QueryOutput(BaseModel):\n",
    "    \"\"\"Generated SQL query.\"\"\"\n",
    "    query: str = Field(..., description=\"Syntactically valid SQL query.\")\n",
    "\n",
    "def generate_sql_query(user_question: str, table_info: str, dialect: str = 'sqlite') -> str:\n",
    "    \"\"\"Generate SQL query from user question.\"\"\"\n",
    "    prompt_template = PromptTemplate(\n",
    "        input_variables=[\"dialect\", \"table_info\", \"input\"],\n",
    "        template=f\"\"\"\n",
    "        Given an input question, create a syntactically correct {dialect} query to run to help find the answer. \n",
    "        Unless the user specifies in his question a specific number of examples they wish to obtain, \n",
    "        always limit your query to at most 5 results. You can order the results by a relevant column to return the most interesting examples in the database.\n",
    "\n",
    "        Never query for all the columns from a specific table, only ask for the few relevant columns given the question.\n",
    "\n",
    "        Pay attention to use only the column names that you can see in the schema description. Be careful to not query for columns that do not exist. Also, pay attention to which column is in which table.\n",
    "\n",
    "        Only use the following tables:\n",
    "        {table_info}\n",
    "\n",
    "        Example 1:\n",
    "        Question: \"What is the average salary for a data scientist?\"\n",
    "        SQL Query:\n",
    "        SELECT AVG(salary) \n",
    "        FROM chat_data\n",
    "        WHERE job_title = 'data scientist'\n",
    "        LIMIT 5;\n",
    "    \n",
    "        Example 2:\n",
    "        Question: \"Show me the salary details for employees working remotely.\"\n",
    "        SQL Query:\n",
    "        SELECT salary, salary_currency, remote_ratio\n",
    "        FROM chat_data\n",
    "        WHERE remote_ratio > 0\n",
    "        LIMIT 5;\n",
    "    \n",
    "        Example 3:\n",
    "        Question: \"How many employees are there in large companies?\"\n",
    "        SQL Query:\n",
    "        SELECT COUNT(*) \n",
    "        FROM chat_data\n",
    "        WHERE company_size = 'large'\n",
    "        LIMIT 5;\n",
    "    \n",
    "        Example 4:\n",
    "        Question: \"Give me the top 5 highest-paying job titles.\"\n",
    "        SQL Query:\n",
    "        SELECT job_title, salary \n",
    "        FROM chat_data\n",
    "        ORDER BY salary DESC\n",
    "        LIMIT 5;\n",
    "    \n",
    "        Example 5:\n",
    "        Question: \"What is the average salary in USD by job title?\"\n",
    "        SQL Query:\n",
    "        SELECT job_title, AVG(salary_in_usd) \n",
    "        FROM chat_data\n",
    "        GROUP BY job_title\n",
    "        LIMIT 5;\n",
    "    \n",
    "        Example 6:\n",
    "        Question: \"What is the salary for software engineers with more than 5 years of experience?\"\n",
    "        SQL Query:\n",
    "        SELECT salary, experience_level\n",
    "        FROM chat_data\n",
    "        WHERE job_title = 'software engineer' AND work_year > 5\n",
    "        LIMIT 5;\n",
    "\n",
    "        Question: {user_question}\n",
    "        \"\"\"\n",
    "    )\n",
    "    prompt = prompt_template.invoke(\n",
    "        {\n",
    "            \"dialect\": dialect,\n",
    "            \"table_info\": table_info,\n",
    "            \"input\": user_question,\n",
    "        }\n",
    "    )\n",
    "    llm = ChatGroq(model=\"llama3-8b-8192\")\n",
    "    structured_llm = llm.with_structured_output(QueryOutput)\n",
    "    result = structured_llm.invoke(prompt)\n",
    "    return result.query"
   ]
  },
  {
   "cell_type": "code",
   "execution_count": 49,
   "id": "3b5e8cee-2580-42e5-8868-9b0833ddca52",
   "metadata": {},
   "outputs": [],
   "source": [
    "table_info = \"\"\"\n",
    "    Table: chat_data\n",
    "    Columns:\n",
    "    - work_year: INTEGER\n",
    "    - experience_level: TEXT\n",
    "    - employment_type: TEXT\n",
    "    - job_title: TEXT\n",
    "    - salary: INTEGER\n",
    "    - salary_currency: TEXT\n",
    "    - salary_in_usd: INTEGER\n",
    "    - employee_residence: TEXT\n",
    "    - remote_ratio: INTEGER\n",
    "    - company_location: TEXT\n",
    "    - company_size: TEXT\n",
    "    \"\"\""
   ]
  },
  {
   "cell_type": "code",
   "execution_count": 50,
   "id": "c211a17c-8954-490b-97b5-b35c258f387f",
   "metadata": {},
   "outputs": [
    {
     "name": "stdout",
     "output_type": "stream",
     "text": [
      "SELECT job_title, AVG(salary_in_usd) AS average_salary FROM chat_data GROUP BY job_title LIMIT 5;\n"
     ]
    },
    {
     "name": "stderr",
     "output_type": "stream",
     "text": [
      "C:\\Users\\sayantghosh\\AppData\\Local\\anaconda3\\envs\\genai\\Lib\\site-packages\\pydantic\\main.py:1114: PydanticDeprecatedSince20: The `dict` method is deprecated; use `model_dump` instead. Deprecated in Pydantic V2.0 to be removed in V3.0. See Pydantic V2 Migration Guide at https://errors.pydantic.dev/2.9/migration/\n",
      "  warnings.warn('The `dict` method is deprecated; use `model_dump` instead.', category=PydanticDeprecatedSince20)\n"
     ]
    }
   ],
   "source": [
    "user_question = \"What are the average salaries for each job title?\"\n",
    "sql_query = generate_sql_query(user_question, table_info)\n",
    "print(sql_query)"
   ]
  },
  {
   "cell_type": "markdown",
   "id": "ad443427-1f0f-418a-b2fd-d95ac4687aba",
   "metadata": {},
   "source": [
    "## Execute the SQL Query"
   ]
  },
  {
   "cell_type": "code",
   "execution_count": 51,
   "id": "55bc2544-9c85-41a8-90bd-06eeaf3c5aef",
   "metadata": {},
   "outputs": [],
   "source": [
    "def execute_sql_query(query: str, engine) -> pd.DataFrame:\n",
    "    \"\"\"Execute the generated SQL query and return the results.\"\"\"\n",
    "    return pd.read_sql_query(query, con=engine)"
   ]
  },
  {
   "cell_type": "code",
   "execution_count": 52,
   "id": "d04467a5-4de1-4978-b623-4e7341ff874b",
   "metadata": {},
   "outputs": [
    {
     "data": {
      "text/html": [
       "<div>\n",
       "<style scoped>\n",
       "    .dataframe tbody tr th:only-of-type {\n",
       "        vertical-align: middle;\n",
       "    }\n",
       "\n",
       "    .dataframe tbody tr th {\n",
       "        vertical-align: top;\n",
       "    }\n",
       "\n",
       "    .dataframe thead th {\n",
       "        text-align: right;\n",
       "    }\n",
       "</style>\n",
       "<table border=\"1\" class=\"dataframe\">\n",
       "  <thead>\n",
       "    <tr style=\"text-align: right;\">\n",
       "      <th></th>\n",
       "      <th>job_title</th>\n",
       "      <th>average_salary</th>\n",
       "    </tr>\n",
       "  </thead>\n",
       "  <tbody>\n",
       "    <tr>\n",
       "      <th>0</th>\n",
       "      <td>3D Computer Vision Researcher</td>\n",
       "      <td>21352.250000</td>\n",
       "    </tr>\n",
       "    <tr>\n",
       "      <th>1</th>\n",
       "      <td>AI Developer</td>\n",
       "      <td>136666.090909</td>\n",
       "    </tr>\n",
       "    <tr>\n",
       "      <th>2</th>\n",
       "      <td>AI Programmer</td>\n",
       "      <td>55000.000000</td>\n",
       "    </tr>\n",
       "    <tr>\n",
       "      <th>3</th>\n",
       "      <td>AI Scientist</td>\n",
       "      <td>110120.875000</td>\n",
       "    </tr>\n",
       "    <tr>\n",
       "      <th>4</th>\n",
       "      <td>Analytics Engineer</td>\n",
       "      <td>152368.631068</td>\n",
       "    </tr>\n",
       "  </tbody>\n",
       "</table>\n",
       "</div>"
      ],
      "text/plain": [
       "                       job_title  average_salary\n",
       "0  3D Computer Vision Researcher    21352.250000\n",
       "1                   AI Developer   136666.090909\n",
       "2                  AI Programmer    55000.000000\n",
       "3                   AI Scientist   110120.875000\n",
       "4             Analytics Engineer   152368.631068"
      ]
     },
     "execution_count": 52,
     "metadata": {},
     "output_type": "execute_result"
    }
   ],
   "source": [
    "execute_sql_query(sql_query,engine)"
   ]
  },
  {
   "cell_type": "markdown",
   "id": "f8efda9a-128d-4947-9e08-bd3caba36085",
   "metadata": {},
   "source": [
    "## 5. Implement Chatbot Functionality with Memory\n",
    "\n",
    "Create a function to handle user inputs, generate SQL queries, execute them, and maintain chat history."
   ]
  },
  {
   "cell_type": "code",
   "execution_count": 53,
   "id": "43fa99ca-30b4-4191-84a3-e8a9009411cd",
   "metadata": {},
   "outputs": [],
   "source": [
    "import json\n",
    "from langchain.memory import ConversationBufferMemory\n",
    "import pandas as pd\n",
    "import matplotlib.pyplot as plt\n",
    "import seaborn as sns\n",
    "\n",
    "\n",
    "# Initialize memory to store chat history\n",
    "memory = ConversationBufferMemory(memory_key=\"chat_history\", return_messages=True)\n",
    "chat_history = memory.load_memory_variables({})[\"chat_history\"]\n",
    "\n",
    "def generate_plot(df: pd.DataFrame, plot_flag: bool) -> Optional[plt.Figure]:\n",
    "    \"\"\"Generate a plot based on the DataFrame columns if plot_flag is True.\"\"\"\n",
    "    if plot_flag and not df.empty:\n",
    "        # Plot dynamically based on the columns of the DataFrame\n",
    "        plot = None\n",
    "        num_columns = len(df.columns)\n",
    "\n",
    "        if num_columns == 1:\n",
    "            plot = df.plot(kind=\"bar\", title=\"Single Column Plot\")\n",
    "        elif num_columns == 2:\n",
    "            plot = df.plot(kind=\"scatter\", x=df.columns[0], y=df.columns[1], title=\"Scatter Plot\")\n",
    "        elif num_columns > 2:\n",
    "            plot = sns.pairplot(df)  # Create a pairplot for multiple columns\n",
    "\n",
    "        plt.show()\n",
    "        return plot\n",
    "    return None\n",
    "\n",
    "def chatbot(user_question: str, engine, table_info: str, plot_flag: bool = False, dialect: str = 'sqlite') -> str:\n",
    "    \"\"\"Handle user input, generate SQL query, execute it, and maintain chat history.\"\"\"\n",
    "    \n",
    "    \n",
    "    # Generate SQL query from user question\n",
    "    sql_query = generate_sql_query(user_question, table_info)\n",
    "    \n",
    "    # Execute the SQL query\n",
    "    query_result = execute_sql_query(sql_query, engine)\n",
    "\n",
    "    #Generate Plot\n",
    "    generate_plot(query_result,plot_flag)\n",
    "    \n",
    "    # Convert query result to a string (e.g., CSV format)\n",
    "    result_str = query_result.to_csv(index=False)\n",
    "\n",
    "    chat_history.append({\"role\": \"user\", \"content\": user_question})\n",
    "    chat_history.append({\"role\": \"assistant\", \"content\": result_str})\n",
    "    \n",
    "    return result_str\n"
   ]
  },
  {
   "cell_type": "code",
   "execution_count": 54,
   "id": "eaf90906-6329-4b91-b2c9-4ecf9211c116",
   "metadata": {},
   "outputs": [
    {
     "name": "stdin",
     "output_type": "stream",
     "text": [
      "You:  What are the average salaries for each job title?\n"
     ]
    },
    {
     "name": "stderr",
     "output_type": "stream",
     "text": [
      "C:\\Users\\sayantghosh\\AppData\\Local\\anaconda3\\envs\\genai\\Lib\\site-packages\\pydantic\\main.py:1114: PydanticDeprecatedSince20: The `dict` method is deprecated; use `model_dump` instead. Deprecated in Pydantic V2.0 to be removed in V3.0. See Pydantic V2 Migration Guide at https://errors.pydantic.dev/2.9/migration/\n",
      "  warnings.warn('The `dict` method is deprecated; use `model_dump` instead.', category=PydanticDeprecatedSince20)\n"
     ]
    },
    {
     "name": "stdout",
     "output_type": "stream",
     "text": [
      "Bot: job_title,AVG(salary_in_usd)\n",
      "3D Computer Vision Researcher,21352.25\n",
      "AI Developer,136666.0909090909\n",
      "AI Programmer,55000.0\n",
      "AI Scientist,110120.875\n",
      "Analytics Engineer,152368.63106796116\n",
      "\n"
     ]
    },
    {
     "name": "stdin",
     "output_type": "stream",
     "text": [
      "You:  For the Analytics Enginner whats the min,max salary?\n"
     ]
    },
    {
     "name": "stderr",
     "output_type": "stream",
     "text": [
      "C:\\Users\\sayantghosh\\AppData\\Local\\anaconda3\\envs\\genai\\Lib\\site-packages\\pydantic\\main.py:1114: PydanticDeprecatedSince20: The `dict` method is deprecated; use `model_dump` instead. Deprecated in Pydantic V2.0 to be removed in V3.0. See Pydantic V2 Migration Guide at https://errors.pydantic.dev/2.9/migration/\n",
      "  warnings.warn('The `dict` method is deprecated; use `model_dump` instead.', category=PydanticDeprecatedSince20)\n"
     ]
    },
    {
     "name": "stdout",
     "output_type": "stream",
     "text": [
      "Bot: min_salary,max_salary\n",
      "7500,289800\n",
      "\n"
     ]
    },
    {
     "name": "stdin",
     "output_type": "stream",
     "text": [
      "You:  exit\n"
     ]
    }
   ],
   "source": [
    "if __name__ == \"__main__\":\n",
    "    # Define table information (e.g., column names and types)  \n",
    "    while True:\n",
    "        user_input = input(\"You: \")\n",
    "        if user_input.lower() == 'exit':\n",
    "            break\n",
    "        response = chatbot(user_question=user_input,\n",
    "                           engine=engine, \n",
    "                           table_info=table_info, \n",
    "                           plot_flag=False)\n",
    "        print(f\"Bot: {response}\")"
   ]
  },
  {
   "cell_type": "code",
   "execution_count": 55,
   "id": "81a78963-950a-4f74-ac77-e772ca5c068d",
   "metadata": {},
   "outputs": [],
   "source": [
    "# Save chat history to a JSON file\n",
    "with open('chat_history.json', 'w') as f:\n",
    "    json.dump(chat_history, f, indent=4)"
   ]
  },
  {
   "cell_type": "code",
   "execution_count": null,
   "id": "51076741-b26a-4083-adb2-ec1256f60092",
   "metadata": {},
   "outputs": [],
   "source": []
  }
 ],
 "metadata": {
  "kernelspec": {
   "display_name": "genai",
   "language": "python",
   "name": "genai"
  },
  "language_info": {
   "codemirror_mode": {
    "name": "ipython",
    "version": 3
   },
   "file_extension": ".py",
   "mimetype": "text/x-python",
   "name": "python",
   "nbconvert_exporter": "python",
   "pygments_lexer": "ipython3",
   "version": "3.12.8"
  }
 },
 "nbformat": 4,
 "nbformat_minor": 5
}
