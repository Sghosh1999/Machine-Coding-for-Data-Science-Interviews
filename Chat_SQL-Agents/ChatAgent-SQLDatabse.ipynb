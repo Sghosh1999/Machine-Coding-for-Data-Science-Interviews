{
 "cells": [
  {
   "cell_type": "code",
   "execution_count": 73,
   "id": "822d691a-90de-4165-9020-1cf84c998b0c",
   "metadata": {},
   "outputs": [],
   "source": [
    "import getpass\n",
    "import os\n",
    "from langchain_groq import ChatGroq\n",
    "import pandas as pd\n",
    "from sqlalchemy import create_engine\n",
    "from dotenv import load_dotenv\n",
    "load_dotenv()\n",
    "\n",
    "\n",
    "os.environ[\"GROQ_API_KEY\"] = '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'\n",
    "llm = ChatGroq(model=\"llama3-8b-8192\")"
   ]
  },
  {
   "cell_type": "code",
   "execution_count": 74,
   "id": "6ece172a-5832-4190-99e8-b6e29c10e55a",
   "metadata": {},
   "outputs": [
    {
     "name": "stderr",
     "output_type": "stream",
     "text": [
      "C:\\Users\\sayantghosh\\AppData\\Local\\anaconda3\\envs\\genai\\Lib\\site-packages\\pydantic\\main.py:1114: PydanticDeprecatedSince20: The `dict` method is deprecated; use `model_dump` instead. Deprecated in Pydantic V2.0 to be removed in V3.0. See Pydantic V2 Migration Guide at https://errors.pydantic.dev/2.9/migration/\n",
      "  warnings.warn('The `dict` method is deprecated; use `model_dump` instead.', category=PydanticDeprecatedSince20)\n"
     ]
    },
    {
     "data": {
      "text/plain": [
       "AIMessage(content=\"Hi! It's nice to meet you. Is there something I can help you with, or would you like to chat?\", response_metadata={'token_usage': {'completion_tokens': 26, 'prompt_tokens': 11, 'total_tokens': 37, 'completion_time': 0.021666667, 'prompt_time': 0.001131683, 'queue_time': 0.025714814, 'total_time': 0.02279835}, 'model_name': 'llama3-8b-8192', 'system_fingerprint': 'fp_179b0f92c9', 'finish_reason': 'stop', 'logprobs': None}, id='run-5c4f6884-3907-4fec-af1b-946eb4fdf821-0')"
      ]
     },
     "execution_count": 74,
     "metadata": {},
     "output_type": "execute_result"
    }
   ],
   "source": [
    "llm.invoke('Hi')"
   ]
  },
  {
   "cell_type": "code",
   "execution_count": 58,
   "id": "6b2dac31-6523-4142-81ed-c120828dee26",
   "metadata": {},
   "outputs": [
    {
     "data": {
      "text/html": [
       "<div>\n",
       "<style scoped>\n",
       "    .dataframe tbody tr th:only-of-type {\n",
       "        vertical-align: middle;\n",
       "    }\n",
       "\n",
       "    .dataframe tbody tr th {\n",
       "        vertical-align: top;\n",
       "    }\n",
       "\n",
       "    .dataframe thead th {\n",
       "        text-align: right;\n",
       "    }\n",
       "</style>\n",
       "<table border=\"1\" class=\"dataframe\">\n",
       "  <thead>\n",
       "    <tr style=\"text-align: right;\">\n",
       "      <th></th>\n",
       "      <th>work_year</th>\n",
       "      <th>experience_level</th>\n",
       "      <th>employment_type</th>\n",
       "      <th>job_title</th>\n",
       "      <th>salary</th>\n",
       "      <th>salary_currency</th>\n",
       "      <th>salary_in_usd</th>\n",
       "      <th>employee_residence</th>\n",
       "      <th>remote_ratio</th>\n",
       "      <th>company_location</th>\n",
       "      <th>company_size</th>\n",
       "    </tr>\n",
       "  </thead>\n",
       "  <tbody>\n",
       "    <tr>\n",
       "      <th>0</th>\n",
       "      <td>2023</td>\n",
       "      <td>SE</td>\n",
       "      <td>FT</td>\n",
       "      <td>Principal Data Scientist</td>\n",
       "      <td>80000</td>\n",
       "      <td>EUR</td>\n",
       "      <td>85847</td>\n",
       "      <td>ES</td>\n",
       "      <td>100</td>\n",
       "      <td>ES</td>\n",
       "      <td>L</td>\n",
       "    </tr>\n",
       "    <tr>\n",
       "      <th>1</th>\n",
       "      <td>2023</td>\n",
       "      <td>MI</td>\n",
       "      <td>CT</td>\n",
       "      <td>ML Engineer</td>\n",
       "      <td>30000</td>\n",
       "      <td>USD</td>\n",
       "      <td>30000</td>\n",
       "      <td>US</td>\n",
       "      <td>100</td>\n",
       "      <td>US</td>\n",
       "      <td>S</td>\n",
       "    </tr>\n",
       "    <tr>\n",
       "      <th>2</th>\n",
       "      <td>2023</td>\n",
       "      <td>MI</td>\n",
       "      <td>CT</td>\n",
       "      <td>ML Engineer</td>\n",
       "      <td>25500</td>\n",
       "      <td>USD</td>\n",
       "      <td>25500</td>\n",
       "      <td>US</td>\n",
       "      <td>100</td>\n",
       "      <td>US</td>\n",
       "      <td>S</td>\n",
       "    </tr>\n",
       "    <tr>\n",
       "      <th>3</th>\n",
       "      <td>2023</td>\n",
       "      <td>SE</td>\n",
       "      <td>FT</td>\n",
       "      <td>Data Scientist</td>\n",
       "      <td>175000</td>\n",
       "      <td>USD</td>\n",
       "      <td>175000</td>\n",
       "      <td>CA</td>\n",
       "      <td>100</td>\n",
       "      <td>CA</td>\n",
       "      <td>M</td>\n",
       "    </tr>\n",
       "    <tr>\n",
       "      <th>4</th>\n",
       "      <td>2023</td>\n",
       "      <td>SE</td>\n",
       "      <td>FT</td>\n",
       "      <td>Data Scientist</td>\n",
       "      <td>120000</td>\n",
       "      <td>USD</td>\n",
       "      <td>120000</td>\n",
       "      <td>CA</td>\n",
       "      <td>100</td>\n",
       "      <td>CA</td>\n",
       "      <td>M</td>\n",
       "    </tr>\n",
       "  </tbody>\n",
       "</table>\n",
       "</div>"
      ],
      "text/plain": [
       "   work_year experience_level employment_type                 job_title  \\\n",
       "0       2023               SE              FT  Principal Data Scientist   \n",
       "1       2023               MI              CT               ML Engineer   \n",
       "2       2023               MI              CT               ML Engineer   \n",
       "3       2023               SE              FT            Data Scientist   \n",
       "4       2023               SE              FT            Data Scientist   \n",
       "\n",
       "   salary salary_currency  salary_in_usd employee_residence  remote_ratio  \\\n",
       "0   80000             EUR          85847                 ES           100   \n",
       "1   30000             USD          30000                 US           100   \n",
       "2   25500             USD          25500                 US           100   \n",
       "3  175000             USD         175000                 CA           100   \n",
       "4  120000             USD         120000                 CA           100   \n",
       "\n",
       "  company_location company_size  \n",
       "0               ES            L  \n",
       "1               US            S  \n",
       "2               US            S  \n",
       "3               CA            M  \n",
       "4               CA            M  "
      ]
     },
     "execution_count": 58,
     "metadata": {},
     "output_type": "execute_result"
    }
   ],
   "source": [
    "df = pd.read_csv('ds_salaries.csv')\n",
    "df.head()"
   ]
  },
  {
   "cell_type": "code",
   "execution_count": 3,
   "id": "a1c3b0a1-c4f0-455f-9b7d-004f5364b561",
   "metadata": {},
   "outputs": [
    {
     "data": {
      "text/plain": [
       "3755"
      ]
     },
     "execution_count": 3,
     "metadata": {},
     "output_type": "execute_result"
    }
   ],
   "source": [
    "DATABSE_URL = \"sqlite:///chatbot.db\"\n",
    "engine = create_engine(DATABSE_URL)\n",
    "df = pd.read_csv('ds_salaries.csv')\n",
    "df.to_sql('chat_data',con=engine,index=False,if_exists='replace')"
   ]
  },
  {
   "cell_type": "markdown",
   "id": "66ad67b6-33b3-4241-84ae-72a532edb7ac",
   "metadata": {},
   "source": [
    "## Simple Database Question Answering"
   ]
  },
  {
   "cell_type": "code",
   "execution_count": 75,
   "id": "bcf44936-8860-4869-9b7b-fa8676c20762",
   "metadata": {},
   "outputs": [],
   "source": [
    "from langchain.agents import Tool\n",
    "from langchain.memory import ConversationBufferMemory\n",
    "from langchain.prompts import PromptTemplate\n",
    "from langchain_experimental.sql import SQLDatabaseChain\n",
    "from langchain_community.utilities import SQLDatabase"
   ]
  },
  {
   "cell_type": "code",
   "execution_count": 104,
   "id": "cf042da6-bdfc-4239-a488-38e55a45c241",
   "metadata": {},
   "outputs": [
    {
     "name": "stdout",
     "output_type": "stream",
     "text": [
      "sqlite\n",
      "['chat_data']\n"
     ]
    },
    {
     "data": {
      "text/plain": [
       "\"[('Data Science Tech Lead', 375000.0), ('Cloud Data Architect', 250000.0), ('Data Lead', 212500.0), ('Data Analytics Lead', 211254.5), ('Principal Data Scientist', 198171.125), ('Director of Data Science', 195140.72727272726), ('Principal Data Engineer', 192500.0), ('Machine Learning Software Engineer', 192420.0), ('Data Science Manager', 191278.77586206896), ('Applied Scientist', 190264.4827586207)]\""
      ]
     },
     "execution_count": 104,
     "metadata": {},
     "output_type": "execute_result"
    }
   ],
   "source": [
    "db = SQLDatabase.from_uri(\"sqlite:///chatbot.db\")\n",
    "print(db.dialect)\n",
    "print(db.get_usable_table_names())\n",
    "db.run(\"SELECT job_title, AVG(CAST(salary_in_usd AS REAL)) AS average_salary FROM chat_data GROUP BY job_title ORDER BY average_salary DESC LIMIT 10;\")"
   ]
  },
  {
   "cell_type": "markdown",
   "id": "d6113932-6843-49ec-a2eb-f2113f69c2f6",
   "metadata": {},
   "source": [
    "## Generate SQL Query Function"
   ]
  },
  {
   "cell_type": "code",
   "execution_count": 77,
   "id": "1d577c5f-1493-42ca-b1f6-20cf7cd7e7d2",
   "metadata": {},
   "outputs": [],
   "source": [
    "from langchain import hub\n",
    "\n",
    "#query_prompt_template = hub.pull(\"langchain-ai/sql-query-system-prompt\")"
   ]
  },
  {
   "cell_type": "code",
   "execution_count": 102,
   "id": "8285bcc4-f4aa-4d7f-aa54-660f43c0deed",
   "metadata": {},
   "outputs": [],
   "source": [
    "from typing import Optional\n",
    "from langchain_groq import ChatGroq\n",
    "from langchain_core.pydantic_v1 import BaseModel, Field\n",
    "from langchain_core.output_parsers import JsonOutputParser\n",
    "\n",
    "class QueryOutput(BaseModel):\n",
    "    \"\"\"Generated SQL query.\"\"\"\n",
    "    query: str = Field(..., description=\"Syntactically valid SQL query.\")\n",
    "\n",
    "def query_validator_agent(sql_query, table_info):\n",
    "    base_prompt_template = \"\"\"\n",
    "    You are a SQL query assistant. You will be provided with the table schema and a SQL Query. \n",
    "    Your task is to check if the SQL query is valid based on the schema and fix any issues that arise, \n",
    "    ensuring the query is compatible with SQLite.\n",
    "\n",
    "    <CRUCIAL RULES>\n",
    "    - Always provide a valid SQL query based on the schema provided. No additional text is allowed.\n",
    "    - The SQL Query MUST BE COMPATIBLE WITH SQLITE. SQLite does not support advanced functions such as PERCENTILE_CONT.\n",
    "    - If the query uses unsupported functions or features, replace them with SQLite-compatible alternatives.\n",
    "    - Verify the columns and tables in the query.\n",
    "    - If the query includes percentile calculations, use a workaround or remove them, as SQLite does not support `PERCENTILE_CONT`.\n",
    "\n",
    "    Table Schema: \n",
    "    {SCHEMA}\n",
    "    \n",
    "    SQL QUERY:\n",
    "    {SQL_QUERY}\n",
    "    \n",
    "    Correct SQL Query: ONLY provide the SQL query. No additional text is allowed.\n",
    "    \\n{format_instructions}\\n\n",
    "    \"\"\"\n",
    "\n",
    "    parser = JsonOutputParser(pydantic_object=QueryOutput)\n",
    "    \n",
    "    prompt = PromptTemplate(\n",
    "        template=base_prompt_template,\n",
    "        input_variables=[\"SCHEMA\", \"SQL_QUERY\"],\n",
    "        partial_variables={\"format_instructions\": parser.get_format_instructions()},\n",
    "    )\n",
    "    chain = prompt | llm | parser \n",
    "    response = chain.invoke({\n",
    "        \"SCHEMA\": table_info,\n",
    "        \"SQL_QUERY\": sql_query\n",
    "    })\n",
    "    \n",
    "    # Return the fixed query if any changes are made\n",
    "    return response['query']\n",
    "\n",
    "# SQL generation function with enhanced prompt template for SQLite\n",
    "def generate_sql_query(user_question: str, table_info: str, dialect: str = 'sqlite') -> str:\n",
    "    \"\"\"Generate SQL query from user question for SQLite.\"\"\"\n",
    "    \n",
    "    # Example scenarios to guide the model\n",
    "    example_scenarios = \"\"\"\n",
    "    Example Scenarios:\n",
    "    1. Find the total salary for employees in a specific job title (e.g., 'Software Engineer').\n",
    "       Query: SELECT SUM(salary) FROM chat_data WHERE job_title = 'Software Engineer';\n",
    "\n",
    "    2. Retrieve the top 5 highest salaries and their job titles.\n",
    "       Query: SELECT job_title, salary FROM chat_data ORDER BY salary DESC LIMIT 5;\n",
    "\n",
    "    3. Find the average salary by experience level, sorted by average salary.\n",
    "       Query: SELECT experience_level, AVG(salary) FROM chat_data GROUP BY experience_level ORDER BY AVG(salary) DESC;\n",
    "\n",
    "    4. Retrieve the employees with the lowest salary in a specific department (e.g., 'Engineering').\n",
    "       Query: SELECT job_title, salary FROM chat_data WHERE job_title = 'Engineering' ORDER BY salary ASC LIMIT 1;\n",
    "\n",
    "    5. Count the number of employees with a remote ratio greater than 50%.\n",
    "       Query: SELECT COUNT(*) FROM chat_data WHERE remote_ratio > 50;\n",
    "\n",
    "    6. Find the 10th percentile salary in the dataset (workaround for SQLite as it doesn't support `PERCENTILE_CONT`).\n",
    "       Query: SELECT salary FROM chat_data ORDER BY salary LIMIT 1 OFFSET (SELECT ROUND(0.1 * COUNT(*) - 1) FROM chat_data);\n",
    "\n",
    "    7. List employees who work remotely and have a salary greater than 100000.\n",
    "       Query: SELECT job_title, salary FROM chat_data WHERE remote_ratio = 100 AND salary > 100000;\n",
    "\n",
    "    8. Retrieve the employee with the highest salary in each job title.\n",
    "       Query: SELECT job_title, MAX(salary) FROM chat_data GROUP BY job_title;\n",
    "\n",
    "    9. Get the average salary for each company size (e.g., 'Small', 'Medium', 'Large').\n",
    "       Query: SELECT company_size, AVG(salary) FROM chat_data GROUP BY company_size;\n",
    "\n",
    "    10. Find the employees with more than 5 years of experience and their salary in USD.\n",
    "        Query: SELECT job_title, salary_in_usd FROM chat_data WHERE experience_level = 'Senior' AND work_year > 5;\n",
    "    \"\"\"\n",
    "\n",
    "    prompt_template = PromptTemplate(\n",
    "        input_variables=[\"dialect\", \"table_info\", \"input\", \"example_scenarios\"],\n",
    "        template=f\"\"\"\n",
    "        Given an input question, create a syntactically correct {dialect} query to help find the answer. \n",
    "        Unless the user specifies in their question a specific number of examples they wish to obtain, \n",
    "        always limit your query to at most 5 results. You can order the results by a relevant column to return the most interesting examples in the database.\n",
    "\n",
    "        **Important Notes for SQLite**:\n",
    "        - SQLite does not support advanced functions like `PERCENTILE_CONT` or window functions.\n",
    "        - Ensure that any complex calculations or percentile calculations are replaced with compatible SQLite logic (e.g., subqueries or custom aggregations).\n",
    "        - You can use `LIMIT` and `OFFSET` for approximations, especially for cases like percentiles.\n",
    "        - Avoid using non-SQLite syntax or unsupported functions.\n",
    "\n",
    "        **Use the following table schema**:\n",
    "        {table_info}\n",
    "\n",
    "        **Example Scenarios**:\n",
    "        {example_scenarios}\n",
    "\n",
    "        **Question**: {user_question}\n",
    "        \"\"\"\n",
    "    )\n",
    "\n",
    "    prompt = prompt_template.invoke(\n",
    "        {\n",
    "            \"dialect\": dialect,\n",
    "            \"table_info\": table_info,\n",
    "            \"input\": user_question,\n",
    "            \"example_scenarios\": example_scenarios,\n",
    "        }\n",
    "    )\n",
    "    \n",
    "    structured_llm = llm.with_structured_output(QueryOutput)\n",
    "    result = structured_llm.invoke(prompt)\n",
    "    validated_query = query_validator_agent(result.query, table_info)\n",
    "    return validated_query"
   ]
  },
  {
   "cell_type": "code",
   "execution_count": 103,
   "id": "985f063e-da02-4567-b723-d9698f419eec",
   "metadata": {},
   "outputs": [
    {
     "name": "stdout",
     "output_type": "stream",
     "text": [
      "SELECT job_title, AVG(CAST(salary_in_usd AS REAL)) AS average_salary FROM chat_data GROUP BY job_title ORDER BY average_salary DESC LIMIT 10;\n"
     ]
    },
    {
     "name": "stderr",
     "output_type": "stream",
     "text": [
      "C:\\Users\\sayantghosh\\AppData\\Local\\anaconda3\\envs\\genai\\Lib\\site-packages\\pydantic\\main.py:1114: PydanticDeprecatedSince20: The `dict` method is deprecated; use `model_dump` instead. Deprecated in Pydantic V2.0 to be removed in V3.0. See Pydantic V2 Migration Guide at https://errors.pydantic.dev/2.9/migration/\n",
      "  warnings.warn('The `dict` method is deprecated; use `model_dump` instead.', category=PydanticDeprecatedSince20)\n"
     ]
    }
   ],
   "source": [
    "print(query_validator_agent(sql_query,table_info))"
   ]
  },
  {
   "cell_type": "code",
   "execution_count": 79,
   "id": "3b5e8cee-2580-42e5-8868-9b0833ddca52",
   "metadata": {},
   "outputs": [],
   "source": [
    "table_info = \"\"\"\n",
    "    Table: chat_data\n",
    "    Columns:\n",
    "    - work_year: INTEGER\n",
    "    - experience_level: TEXT\n",
    "    - employment_type: TEXT\n",
    "    - job_title: TEXT\n",
    "    - salary: INTEGER\n",
    "    - salary_currency: TEXT\n",
    "    - salary_in_usd: INTEGER\n",
    "    - employee_residence: TEXT\n",
    "    - remote_ratio: INTEGER\n",
    "    - company_location: TEXT\n",
    "    - company_size: TEXT\n",
    "    \"\"\""
   ]
  },
  {
   "cell_type": "code",
   "execution_count": 90,
   "id": "c211a17c-8954-490b-97b5-b35c258f387f",
   "metadata": {},
   "outputs": [
    {
     "name": "stdout",
     "output_type": "stream",
     "text": [
      "SELECT job_title, AVG(salary_in_usd) AS average_salary\n",
      "FROM chat_data\n",
      "GROUP BY job_title\n",
      "ORDER BY average_salary DESC\n",
      "LIMIT 10;\n"
     ]
    },
    {
     "name": "stderr",
     "output_type": "stream",
     "text": [
      "C:\\Users\\sayantghosh\\AppData\\Local\\anaconda3\\envs\\genai\\Lib\\site-packages\\pydantic\\main.py:1114: PydanticDeprecatedSince20: The `dict` method is deprecated; use `model_dump` instead. Deprecated in Pydantic V2.0 to be removed in V3.0. See Pydantic V2 Migration Guide at https://errors.pydantic.dev/2.9/migration/\n",
      "  warnings.warn('The `dict` method is deprecated; use `model_dump` instead.', category=PydanticDeprecatedSince20)\n"
     ]
    }
   ],
   "source": [
    "user_question = \"What are the top 10 average salaries for each job title?\"\n",
    "sql_query = generate_sql_query(user_question, table_info)\n",
    "print(sql_query)"
   ]
  },
  {
   "cell_type": "markdown",
   "id": "ad443427-1f0f-418a-b2fd-d95ac4687aba",
   "metadata": {},
   "source": [
    "## Execute the SQL Query"
   ]
  },
  {
   "cell_type": "code",
   "execution_count": 91,
   "id": "55bc2544-9c85-41a8-90bd-06eeaf3c5aef",
   "metadata": {},
   "outputs": [],
   "source": [
    "def execute_sql_query(query: str, engine) -> pd.DataFrame:\n",
    "    \"\"\"Execute the generated SQL query and return the results.\"\"\"\n",
    "    return pd.read_sql_query(query, con=engine)"
   ]
  },
  {
   "cell_type": "code",
   "execution_count": 92,
   "id": "d04467a5-4de1-4978-b623-4e7341ff874b",
   "metadata": {},
   "outputs": [
    {
     "data": {
      "text/html": [
       "<div>\n",
       "<style scoped>\n",
       "    .dataframe tbody tr th:only-of-type {\n",
       "        vertical-align: middle;\n",
       "    }\n",
       "\n",
       "    .dataframe tbody tr th {\n",
       "        vertical-align: top;\n",
       "    }\n",
       "\n",
       "    .dataframe thead th {\n",
       "        text-align: right;\n",
       "    }\n",
       "</style>\n",
       "<table border=\"1\" class=\"dataframe\">\n",
       "  <thead>\n",
       "    <tr style=\"text-align: right;\">\n",
       "      <th></th>\n",
       "      <th>job_title</th>\n",
       "      <th>average_salary</th>\n",
       "    </tr>\n",
       "  </thead>\n",
       "  <tbody>\n",
       "    <tr>\n",
       "      <th>0</th>\n",
       "      <td>Data Science Tech Lead</td>\n",
       "      <td>375000.000000</td>\n",
       "    </tr>\n",
       "    <tr>\n",
       "      <th>1</th>\n",
       "      <td>Cloud Data Architect</td>\n",
       "      <td>250000.000000</td>\n",
       "    </tr>\n",
       "    <tr>\n",
       "      <th>2</th>\n",
       "      <td>Data Lead</td>\n",
       "      <td>212500.000000</td>\n",
       "    </tr>\n",
       "    <tr>\n",
       "      <th>3</th>\n",
       "      <td>Data Analytics Lead</td>\n",
       "      <td>211254.500000</td>\n",
       "    </tr>\n",
       "    <tr>\n",
       "      <th>4</th>\n",
       "      <td>Principal Data Scientist</td>\n",
       "      <td>198171.125000</td>\n",
       "    </tr>\n",
       "    <tr>\n",
       "      <th>5</th>\n",
       "      <td>Director of Data Science</td>\n",
       "      <td>195140.727273</td>\n",
       "    </tr>\n",
       "    <tr>\n",
       "      <th>6</th>\n",
       "      <td>Principal Data Engineer</td>\n",
       "      <td>192500.000000</td>\n",
       "    </tr>\n",
       "    <tr>\n",
       "      <th>7</th>\n",
       "      <td>Machine Learning Software Engineer</td>\n",
       "      <td>192420.000000</td>\n",
       "    </tr>\n",
       "    <tr>\n",
       "      <th>8</th>\n",
       "      <td>Data Science Manager</td>\n",
       "      <td>191278.775862</td>\n",
       "    </tr>\n",
       "    <tr>\n",
       "      <th>9</th>\n",
       "      <td>Applied Scientist</td>\n",
       "      <td>190264.482759</td>\n",
       "    </tr>\n",
       "  </tbody>\n",
       "</table>\n",
       "</div>"
      ],
      "text/plain": [
       "                            job_title  average_salary\n",
       "0              Data Science Tech Lead   375000.000000\n",
       "1                Cloud Data Architect   250000.000000\n",
       "2                           Data Lead   212500.000000\n",
       "3                 Data Analytics Lead   211254.500000\n",
       "4            Principal Data Scientist   198171.125000\n",
       "5            Director of Data Science   195140.727273\n",
       "6             Principal Data Engineer   192500.000000\n",
       "7  Machine Learning Software Engineer   192420.000000\n",
       "8                Data Science Manager   191278.775862\n",
       "9                   Applied Scientist   190264.482759"
      ]
     },
     "execution_count": 92,
     "metadata": {},
     "output_type": "execute_result"
    }
   ],
   "source": [
    "execute_sql_query(sql_query,engine)"
   ]
  },
  {
   "cell_type": "markdown",
   "id": "f8efda9a-128d-4947-9e08-bd3caba36085",
   "metadata": {},
   "source": [
    "## 5. Implement Chatbot Functionality with Memory\n",
    "\n",
    "Create a function to handle user inputs, generate SQL queries, execute them, and maintain chat history."
   ]
  },
  {
   "cell_type": "code",
   "execution_count": 95,
   "id": "43fa99ca-30b4-4191-84a3-e8a9009411cd",
   "metadata": {},
   "outputs": [],
   "source": [
    "import json\n",
    "from langchain.memory import ConversationBufferMemory\n",
    "import pandas as pd\n",
    "import matplotlib.pyplot as plt\n",
    "import seaborn as sns\n",
    "\n",
    "\n",
    "# Initialize memory to store chat history\n",
    "memory = ConversationBufferMemory(memory_key=\"chat_history\", return_messages=True)\n",
    "chat_history = memory.load_memory_variables({})[\"chat_history\"]\n",
    "\n",
    "def generate_plot(df: pd.DataFrame, plot_flag: bool) -> Optional[plt.Figure]:\n",
    "    \"\"\"Generate a plot based on the DataFrame columns if plot_flag is True.\"\"\"\n",
    "    if plot_flag and not df.empty:\n",
    "        # Plot dynamically based on the columns of the DataFrame\n",
    "        plot = None\n",
    "        num_columns = len(df.columns)\n",
    "\n",
    "        if num_columns == 1:\n",
    "            plot = df.plot(kind=\"bar\", title=\"Single Column Plot\")\n",
    "        elif num_columns == 2:\n",
    "            plot = df.plot(kind=\"scatter\", x=df.columns[0], y=df.columns[1], title=\"Scatter Plot\")\n",
    "        elif num_columns > 2:\n",
    "            plot = sns.pairplot(df)  # Create a pairplot for multiple columns\n",
    "\n",
    "        plt.show()\n",
    "        return plot\n",
    "    return None\n",
    "\n",
    "def chatbot(user_question: str, engine, table_info: str, plot_flag: bool = False, dialect: str = 'sqlite') -> str:\n",
    "    \"\"\"Handle user input, generate SQL query, execute it, and maintain chat history.\"\"\"\n",
    "    \n",
    "    \n",
    "    # Generate SQL query from user question\n",
    "    sql_query = generate_sql_query(user_question, table_info)\n",
    "    #validated_sql_query = validate_sql_query(sql_query, user_question,table_info)\n",
    "    \n",
    "    # Execute the SQL query\n",
    "    query_result = execute_sql_query(sql_query, engine)\n",
    "\n",
    "    #Generate Plot\n",
    "    generate_plot(query_result,plot_flag)\n",
    "    \n",
    "    # Convert query result to a string (e.g., CSV format)\n",
    "    result_str = query_result.to_csv(index=False)\n",
    "\n",
    "    chat_history.append({\"role\": \"user\", \"content\": user_question})\n",
    "    chat_history.append({\"role\": \"assistant\", \"content\": [sql_query,result_str]})\n",
    "    \n",
    "    return result_str\n"
   ]
  },
  {
   "cell_type": "code",
   "execution_count": 98,
   "id": "eaf90906-6329-4b91-b2c9-4ecf9211c116",
   "metadata": {},
   "outputs": [
    {
     "name": "stdin",
     "output_type": "stream",
     "text": [
      "You:  What are the average salaries for each job title?\n"
     ]
    },
    {
     "name": "stderr",
     "output_type": "stream",
     "text": [
      "C:\\Users\\sayantghosh\\AppData\\Local\\anaconda3\\envs\\genai\\Lib\\site-packages\\pydantic\\main.py:1114: PydanticDeprecatedSince20: The `dict` method is deprecated; use `model_dump` instead. Deprecated in Pydantic V2.0 to be removed in V3.0. See Pydantic V2 Migration Guide at https://errors.pydantic.dev/2.9/migration/\n",
      "  warnings.warn('The `dict` method is deprecated; use `model_dump` instead.', category=PydanticDeprecatedSince20)\n"
     ]
    },
    {
     "name": "stdout",
     "output_type": "stream",
     "text": [
      "Bot: average_salary,job_title\n",
      "21352.25,3D Computer Vision Researcher\n",
      "136666.0909090909,AI Developer\n",
      "55000.0,AI Programmer\n",
      "110120.875,AI Scientist\n",
      "152368.63106796116,Analytics Engineer\n",
      "\n"
     ]
    },
    {
     "name": "stdin",
     "output_type": "stream",
     "text": [
      "You:  What are the top 20 average salaries for each job title?\n"
     ]
    },
    {
     "name": "stderr",
     "output_type": "stream",
     "text": [
      "C:\\Users\\sayantghosh\\AppData\\Local\\anaconda3\\envs\\genai\\Lib\\site-packages\\pydantic\\main.py:1114: PydanticDeprecatedSince20: The `dict` method is deprecated; use `model_dump` instead. Deprecated in Pydantic V2.0 to be removed in V3.0. See Pydantic V2 Migration Guide at https://errors.pydantic.dev/2.9/migration/\n",
      "  warnings.warn('The `dict` method is deprecated; use `model_dump` instead.', category=PydanticDeprecatedSince20)\n"
     ]
    },
    {
     "name": "stdout",
     "output_type": "stream",
     "text": [
      "Bot: average_salary,job_title\n",
      "375000.0,Data Science Tech Lead\n",
      "250000.0,Cloud Data Architect\n",
      "212500.0,Data Lead\n",
      "211254.5,Data Analytics Lead\n",
      "198171.125,Principal Data Scientist\n",
      "195140.72727272726,Director of Data Science\n",
      "192500.0,Principal Data Engineer\n",
      "192420.0,Machine Learning Software Engineer\n",
      "191278.77586206896,Data Science Manager\n",
      "190264.4827586207,Applied Scientist\n",
      "190000.0,Principal Machine Learning Engineer\n",
      "183857.5,Head of Data\n",
      "175051.66666666666,Data Infrastructure Engineer\n",
      "174150.0,Business Intelligence Engineer\n",
      "163220.07692307694,Machine Learning Scientist\n",
      "163108.37837837837,Research Engineer\n",
      "161713.77227722772,Data Architect\n",
      "161214.19512195123,Research Scientist\n",
      "160591.66666666666,Head of Data Science\n",
      "158352.4411764706,ML Engineer\n",
      "\n"
     ]
    },
    {
     "name": "stdin",
     "output_type": "stream",
     "text": [
      "You:  For AI Programmer what is the min and max of the salary?\n"
     ]
    },
    {
     "name": "stderr",
     "output_type": "stream",
     "text": [
      "C:\\Users\\sayantghosh\\AppData\\Local\\anaconda3\\envs\\genai\\Lib\\site-packages\\pydantic\\main.py:1114: PydanticDeprecatedSince20: The `dict` method is deprecated; use `model_dump` instead. Deprecated in Pydantic V2.0 to be removed in V3.0. See Pydantic V2 Migration Guide at https://errors.pydantic.dev/2.9/migration/\n",
      "  warnings.warn('The `dict` method is deprecated; use `model_dump` instead.', category=PydanticDeprecatedSince20)\n"
     ]
    },
    {
     "name": "stdout",
     "output_type": "stream",
     "text": [
      "Bot: MIN(salary_in_usd),MAX(salary_in_usd)\n",
      "40000,70000\n",
      "\n"
     ]
    },
    {
     "name": "stdin",
     "output_type": "stream",
     "text": [
      "You:  exit\n"
     ]
    }
   ],
   "source": [
    "if __name__ == \"__main__\":\n",
    "    # Define table information (e.g., column names and types)  \n",
    "    while True:\n",
    "        user_input = input(\"You: \")\n",
    "        if user_input.lower() == 'exit':\n",
    "            break\n",
    "        response = chatbot(user_question=user_input,\n",
    "                           engine=engine, \n",
    "                           table_info=table_info, \n",
    "                           plot_flag=False)\n",
    "        print(f\"Bot: {response}\")"
   ]
  },
  {
   "cell_type": "code",
   "execution_count": 97,
   "id": "81a78963-950a-4f74-ac77-e772ca5c068d",
   "metadata": {},
   "outputs": [],
   "source": [
    "# Save chat history to a JSON file\n",
    "with open('chat_history.json', 'w') as f:\n",
    "    json.dump(chat_history, f, indent=4)"
   ]
  },
  {
   "cell_type": "code",
   "execution_count": null,
   "id": "51076741-b26a-4083-adb2-ec1256f60092",
   "metadata": {},
   "outputs": [],
   "source": []
  }
 ],
 "metadata": {
  "kernelspec": {
   "display_name": "genai",
   "language": "python",
   "name": "genai"
  },
  "language_info": {
   "codemirror_mode": {
    "name": "ipython",
    "version": 3
   },
   "file_extension": ".py",
   "mimetype": "text/x-python",
   "name": "python",
   "nbconvert_exporter": "python",
   "pygments_lexer": "ipython3",
   "version": "3.12.8"
  }
 },
 "nbformat": 4,
 "nbformat_minor": 5
}
